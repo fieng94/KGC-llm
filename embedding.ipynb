{
 "cells": [
  {
   "cell_type": "code",
   "execution_count": 2,
   "metadata": {},
   "outputs": [],
   "source": [
    "import pandas as pd\n",
    "from cand_gen.embedding import train_model\n",
    "from cand_gen import triple_gen"
   ]
  },
  {
   "cell_type": "code",
   "execution_count": 3,
   "metadata": {},
   "outputs": [],
   "source": [
    "df = pd.read_csv('data/freebase/data.csv')\n",
    "df = df.dropna()\n",
    "candidates_df = triple_gen.generate_all_candidates(df.sample(1000))"
   ]
  },
  {
   "cell_type": "code",
   "execution_count": 7,
   "metadata": {},
   "outputs": [
    {
     "name": "stderr",
     "output_type": "stream",
     "text": [
      "Failed to detect the name of this notebook, you can set it manually with the WANDB_NOTEBOOK_NAME environment variable to enable code saving.\n",
      "\u001b[34m\u001b[1mwandb\u001b[0m: Currently logged in as: \u001b[33mfieng\u001b[0m. Use \u001b[1m`wandb login --relogin`\u001b[0m to force relogin\n"
     ]
    },
    {
     "data": {
      "text/html": [
       "wandb version 0.17.9 is available!  To upgrade, please run:\n",
       " $ pip install wandb --upgrade"
      ],
      "text/plain": [
       "<IPython.core.display.HTML object>"
      ]
     },
     "metadata": {},
     "output_type": "display_data"
    },
    {
     "data": {
      "text/html": [
       "Tracking run with wandb version 0.17.5"
      ],
      "text/plain": [
       "<IPython.core.display.HTML object>"
      ]
     },
     "metadata": {},
     "output_type": "display_data"
    },
    {
     "data": {
      "text/html": [
       "Run data is saved locally in <code>/Users/fieng/Project/KGC-llm/wandb/run-20240906_130028-j24s6f4t</code>"
      ],
      "text/plain": [
       "<IPython.core.display.HTML object>"
      ]
     },
     "metadata": {},
     "output_type": "display_data"
    },
    {
     "data": {
      "text/html": [
       "Syncing run <strong><a href='https://wandb.ai/fieng/WN18RR-embedding/runs/j24s6f4t' target=\"_blank\">feasible-dream-7</a></strong> to <a href='https://wandb.ai/fieng/WN18RR-embedding' target=\"_blank\">Weights & Biases</a> (<a href='https://wandb.me/run' target=\"_blank\">docs</a>)<br/>"
      ],
      "text/plain": [
       "<IPython.core.display.HTML object>"
      ]
     },
     "metadata": {},
     "output_type": "display_data"
    },
    {
     "data": {
      "text/html": [
       " View project at <a href='https://wandb.ai/fieng/WN18RR-embedding' target=\"_blank\">https://wandb.ai/fieng/WN18RR-embedding</a>"
      ],
      "text/plain": [
       "<IPython.core.display.HTML object>"
      ]
     },
     "metadata": {},
     "output_type": "display_data"
    },
    {
     "data": {
      "text/html": [
       " View run at <a href='https://wandb.ai/fieng/WN18RR-embedding/runs/j24s6f4t' target=\"_blank\">https://wandb.ai/fieng/WN18RR-embedding/runs/j24s6f4t</a>"
      ],
      "text/plain": [
       "<IPython.core.display.HTML object>"
      ]
     },
     "metadata": {},
     "output_type": "display_data"
    },
    {
     "name": "stderr",
     "output_type": "stream",
     "text": [
      "No cuda devices were available. The model runs on CPU\n",
      "Training epochs on cpu: 100%|██████████| 50/50 [00:35<00:00,  1.40epoch/s, loss=0.525, prev_loss=0.524]\n",
      "Evaluating on cpu:   0%|          | 0.00/50.0 [00:00<?, ?triple/s]WARNING:torch_max_mem.api:Encountered tensors on device_types={'cpu'} while only ['cuda'] are considered safe for automatic memory utilization maximization. This may lead to undocumented crashes (but can be safe, too).\n",
      "Evaluating on cpu: 100%|██████████| 50.0/50.0 [00:00<00:00, 168triple/s]\n",
      "INFO:pykeen.evaluation.evaluator:Evaluation took 0.44s seconds\n"
     ]
    },
    {
     "data": {
      "text/html": [
       "<style>\n",
       "    table.wandb td:nth-child(1) { padding: 0 10px; text-align: left ; width: auto;} td:nth-child(2) {text-align: left ; width: 100%}\n",
       "    .wandb-row { display: flex; flex-direction: row; flex-wrap: wrap; justify-content: flex-start; width: 100% }\n",
       "    .wandb-col { display: flex; flex-direction: column; flex-basis: 100%; flex: 1; padding: 10px; }\n",
       "    </style>\n",
       "<div class=\"wandb-row\"><div class=\"wandb-col\"><h3>Run history:</h3><br/><table class=\"wandb\"><tr><td>loss</td><td>█▄▃▂▂▂▁▁▁▁▁▁▁▁▁▁▁▁▁▁▁▁▁▁▁▁▁▁▁▁▁▁▁▁▁▁▁▁▁▁</td></tr><tr><td>testing.both.optimistic.adjusted_arithmetic_mean_rank</td><td>▁</td></tr><tr><td>testing.both.optimistic.adjusted_arithmetic_mean_rank_index</td><td>▁</td></tr><tr><td>testing.both.optimistic.adjusted_geometric_mean_rank_index</td><td>▁</td></tr><tr><td>testing.both.optimistic.adjusted_hits_at_k</td><td>▁</td></tr><tr><td>testing.both.optimistic.adjusted_inverse_harmonic_mean_rank</td><td>▁</td></tr><tr><td>testing.both.optimistic.arithmetic_mean_rank</td><td>▁</td></tr><tr><td>testing.both.optimistic.count</td><td>▁</td></tr><tr><td>testing.both.optimistic.geometric_mean_rank</td><td>▁</td></tr><tr><td>testing.both.optimistic.harmonic_mean_rank</td><td>▁</td></tr><tr><td>testing.both.optimistic.hits_at_1</td><td>▁</td></tr><tr><td>testing.both.optimistic.hits_at_10</td><td>▁</td></tr><tr><td>testing.both.optimistic.hits_at_3</td><td>▁</td></tr><tr><td>testing.both.optimistic.hits_at_5</td><td>▁</td></tr><tr><td>testing.both.optimistic.inverse_arithmetic_mean_rank</td><td>▁</td></tr><tr><td>testing.both.optimistic.inverse_geometric_mean_rank</td><td>▁</td></tr><tr><td>testing.both.optimistic.inverse_harmonic_mean_rank</td><td>▁</td></tr><tr><td>testing.both.optimistic.inverse_median_rank</td><td>▁</td></tr><tr><td>testing.both.optimistic.median_absolute_deviation</td><td>▁</td></tr><tr><td>testing.both.optimistic.median_rank</td><td>▁</td></tr><tr><td>testing.both.optimistic.standard_deviation</td><td>▁</td></tr><tr><td>testing.both.optimistic.variance</td><td>▁</td></tr><tr><td>testing.both.optimistic.z_arithmetic_mean_rank</td><td>▁</td></tr><tr><td>testing.both.optimistic.z_geometric_mean_rank</td><td>▁</td></tr><tr><td>testing.both.optimistic.z_hits_at_k</td><td>▁</td></tr><tr><td>testing.both.optimistic.z_inverse_harmonic_mean_rank</td><td>▁</td></tr><tr><td>testing.both.pessimistic.adjusted_arithmetic_mean_rank</td><td>▁</td></tr><tr><td>testing.both.pessimistic.adjusted_arithmetic_mean_rank_index</td><td>▁</td></tr><tr><td>testing.both.pessimistic.adjusted_geometric_mean_rank_index</td><td>▁</td></tr><tr><td>testing.both.pessimistic.adjusted_hits_at_k</td><td>▁</td></tr><tr><td>testing.both.pessimistic.adjusted_inverse_harmonic_mean_rank</td><td>▁</td></tr><tr><td>testing.both.pessimistic.arithmetic_mean_rank</td><td>▁</td></tr><tr><td>testing.both.pessimistic.count</td><td>▁</td></tr><tr><td>testing.both.pessimistic.geometric_mean_rank</td><td>▁</td></tr><tr><td>testing.both.pessimistic.harmonic_mean_rank</td><td>▁</td></tr><tr><td>testing.both.pessimistic.hits_at_1</td><td>▁</td></tr><tr><td>testing.both.pessimistic.hits_at_10</td><td>▁</td></tr><tr><td>testing.both.pessimistic.hits_at_3</td><td>▁</td></tr><tr><td>testing.both.pessimistic.hits_at_5</td><td>▁</td></tr><tr><td>testing.both.pessimistic.inverse_arithmetic_mean_rank</td><td>▁</td></tr><tr><td>testing.both.pessimistic.inverse_geometric_mean_rank</td><td>▁</td></tr><tr><td>testing.both.pessimistic.inverse_harmonic_mean_rank</td><td>▁</td></tr><tr><td>testing.both.pessimistic.inverse_median_rank</td><td>▁</td></tr><tr><td>testing.both.pessimistic.median_absolute_deviation</td><td>▁</td></tr><tr><td>testing.both.pessimistic.median_rank</td><td>▁</td></tr><tr><td>testing.both.pessimistic.standard_deviation</td><td>▁</td></tr><tr><td>testing.both.pessimistic.variance</td><td>▁</td></tr><tr><td>testing.both.pessimistic.z_arithmetic_mean_rank</td><td>▁</td></tr><tr><td>testing.both.pessimistic.z_geometric_mean_rank</td><td>▁</td></tr><tr><td>testing.both.pessimistic.z_hits_at_k</td><td>▁</td></tr><tr><td>testing.both.pessimistic.z_inverse_harmonic_mean_rank</td><td>▁</td></tr><tr><td>testing.both.realistic.adjusted_arithmetic_mean_rank</td><td>▁</td></tr><tr><td>testing.both.realistic.adjusted_arithmetic_mean_rank_index</td><td>▁</td></tr><tr><td>testing.both.realistic.adjusted_geometric_mean_rank_index</td><td>▁</td></tr><tr><td>testing.both.realistic.adjusted_hits_at_k</td><td>▁</td></tr><tr><td>testing.both.realistic.adjusted_inverse_harmonic_mean_rank</td><td>▁</td></tr><tr><td>testing.both.realistic.arithmetic_mean_rank</td><td>▁</td></tr><tr><td>testing.both.realistic.count</td><td>▁</td></tr><tr><td>testing.both.realistic.geometric_mean_rank</td><td>▁</td></tr><tr><td>testing.both.realistic.harmonic_mean_rank</td><td>▁</td></tr><tr><td>testing.both.realistic.hits_at_1</td><td>▁</td></tr><tr><td>testing.both.realistic.hits_at_10</td><td>▁</td></tr><tr><td>testing.both.realistic.hits_at_3</td><td>▁</td></tr><tr><td>testing.both.realistic.hits_at_5</td><td>▁</td></tr><tr><td>testing.both.realistic.inverse_arithmetic_mean_rank</td><td>▁</td></tr><tr><td>testing.both.realistic.inverse_geometric_mean_rank</td><td>▁</td></tr><tr><td>testing.both.realistic.inverse_harmonic_mean_rank</td><td>▁</td></tr><tr><td>testing.both.realistic.inverse_median_rank</td><td>▁</td></tr><tr><td>testing.both.realistic.median_absolute_deviation</td><td>▁</td></tr><tr><td>testing.both.realistic.median_rank</td><td>▁</td></tr><tr><td>testing.both.realistic.standard_deviation</td><td>▁</td></tr><tr><td>testing.both.realistic.variance</td><td>▁</td></tr><tr><td>testing.both.realistic.z_arithmetic_mean_rank</td><td>▁</td></tr><tr><td>testing.both.realistic.z_geometric_mean_rank</td><td>▁</td></tr><tr><td>testing.both.realistic.z_hits_at_k</td><td>▁</td></tr><tr><td>testing.both.realistic.z_inverse_harmonic_mean_rank</td><td>▁</td></tr><tr><td>testing.head.optimistic.adjusted_arithmetic_mean_rank</td><td>▁</td></tr><tr><td>testing.head.optimistic.adjusted_arithmetic_mean_rank_index</td><td>▁</td></tr><tr><td>testing.head.optimistic.adjusted_geometric_mean_rank_index</td><td>▁</td></tr><tr><td>testing.head.optimistic.adjusted_hits_at_k</td><td>▁</td></tr><tr><td>testing.head.optimistic.adjusted_inverse_harmonic_mean_rank</td><td>▁</td></tr><tr><td>testing.head.optimistic.arithmetic_mean_rank</td><td>▁</td></tr><tr><td>testing.head.optimistic.count</td><td>▁</td></tr><tr><td>testing.head.optimistic.geometric_mean_rank</td><td>▁</td></tr><tr><td>testing.head.optimistic.harmonic_mean_rank</td><td>▁</td></tr><tr><td>testing.head.optimistic.hits_at_1</td><td>▁</td></tr><tr><td>testing.head.optimistic.hits_at_10</td><td>▁</td></tr><tr><td>testing.head.optimistic.hits_at_3</td><td>▁</td></tr><tr><td>testing.head.optimistic.hits_at_5</td><td>▁</td></tr><tr><td>testing.head.optimistic.inverse_arithmetic_mean_rank</td><td>▁</td></tr><tr><td>testing.head.optimistic.inverse_geometric_mean_rank</td><td>▁</td></tr><tr><td>testing.head.optimistic.inverse_harmonic_mean_rank</td><td>▁</td></tr><tr><td>testing.head.optimistic.inverse_median_rank</td><td>▁</td></tr><tr><td>testing.head.optimistic.median_absolute_deviation</td><td>▁</td></tr><tr><td>testing.head.optimistic.median_rank</td><td>▁</td></tr><tr><td>testing.head.optimistic.standard_deviation</td><td>▁</td></tr><tr><td>testing.head.optimistic.variance</td><td>▁</td></tr><tr><td>testing.head.optimistic.z_arithmetic_mean_rank</td><td>▁</td></tr><tr><td>testing.head.optimistic.z_geometric_mean_rank</td><td>▁</td></tr><tr><td>testing.head.optimistic.z_hits_at_k</td><td>▁</td></tr><tr><td>testing.head.optimistic.z_inverse_harmonic_mean_rank</td><td>▁</td></tr><tr><td>testing.head.pessimistic.adjusted_arithmetic_mean_rank</td><td>▁</td></tr><tr><td>testing.head.pessimistic.adjusted_arithmetic_mean_rank_index</td><td>▁</td></tr><tr><td>testing.head.pessimistic.adjusted_geometric_mean_rank_index</td><td>▁</td></tr><tr><td>testing.head.pessimistic.adjusted_hits_at_k</td><td>▁</td></tr><tr><td>testing.head.pessimistic.adjusted_inverse_harmonic_mean_rank</td><td>▁</td></tr><tr><td>testing.head.pessimistic.arithmetic_mean_rank</td><td>▁</td></tr><tr><td>testing.head.pessimistic.count</td><td>▁</td></tr><tr><td>testing.head.pessimistic.geometric_mean_rank</td><td>▁</td></tr><tr><td>testing.head.pessimistic.harmonic_mean_rank</td><td>▁</td></tr><tr><td>testing.head.pessimistic.hits_at_1</td><td>▁</td></tr><tr><td>testing.head.pessimistic.hits_at_10</td><td>▁</td></tr><tr><td>testing.head.pessimistic.hits_at_3</td><td>▁</td></tr><tr><td>testing.head.pessimistic.hits_at_5</td><td>▁</td></tr><tr><td>testing.head.pessimistic.inverse_arithmetic_mean_rank</td><td>▁</td></tr><tr><td>testing.head.pessimistic.inverse_geometric_mean_rank</td><td>▁</td></tr><tr><td>testing.head.pessimistic.inverse_harmonic_mean_rank</td><td>▁</td></tr><tr><td>testing.head.pessimistic.inverse_median_rank</td><td>▁</td></tr><tr><td>testing.head.pessimistic.median_absolute_deviation</td><td>▁</td></tr><tr><td>testing.head.pessimistic.median_rank</td><td>▁</td></tr><tr><td>testing.head.pessimistic.standard_deviation</td><td>▁</td></tr><tr><td>testing.head.pessimistic.variance</td><td>▁</td></tr><tr><td>testing.head.pessimistic.z_arithmetic_mean_rank</td><td>▁</td></tr><tr><td>testing.head.pessimistic.z_geometric_mean_rank</td><td>▁</td></tr><tr><td>testing.head.pessimistic.z_hits_at_k</td><td>▁</td></tr><tr><td>testing.head.pessimistic.z_inverse_harmonic_mean_rank</td><td>▁</td></tr><tr><td>testing.head.realistic.adjusted_arithmetic_mean_rank</td><td>▁</td></tr><tr><td>testing.head.realistic.adjusted_arithmetic_mean_rank_index</td><td>▁</td></tr><tr><td>testing.head.realistic.adjusted_geometric_mean_rank_index</td><td>▁</td></tr><tr><td>testing.head.realistic.adjusted_hits_at_k</td><td>▁</td></tr><tr><td>testing.head.realistic.adjusted_inverse_harmonic_mean_rank</td><td>▁</td></tr><tr><td>testing.head.realistic.arithmetic_mean_rank</td><td>▁</td></tr><tr><td>testing.head.realistic.count</td><td>▁</td></tr><tr><td>testing.head.realistic.geometric_mean_rank</td><td>▁</td></tr><tr><td>testing.head.realistic.harmonic_mean_rank</td><td>▁</td></tr><tr><td>testing.head.realistic.hits_at_1</td><td>▁</td></tr><tr><td>testing.head.realistic.hits_at_10</td><td>▁</td></tr><tr><td>testing.head.realistic.hits_at_3</td><td>▁</td></tr><tr><td>testing.head.realistic.hits_at_5</td><td>▁</td></tr><tr><td>testing.head.realistic.inverse_arithmetic_mean_rank</td><td>▁</td></tr><tr><td>testing.head.realistic.inverse_geometric_mean_rank</td><td>▁</td></tr><tr><td>testing.head.realistic.inverse_harmonic_mean_rank</td><td>▁</td></tr><tr><td>testing.head.realistic.inverse_median_rank</td><td>▁</td></tr><tr><td>testing.head.realistic.median_absolute_deviation</td><td>▁</td></tr><tr><td>testing.head.realistic.median_rank</td><td>▁</td></tr><tr><td>testing.head.realistic.standard_deviation</td><td>▁</td></tr><tr><td>testing.head.realistic.variance</td><td>▁</td></tr><tr><td>testing.head.realistic.z_arithmetic_mean_rank</td><td>▁</td></tr><tr><td>testing.head.realistic.z_geometric_mean_rank</td><td>▁</td></tr><tr><td>testing.head.realistic.z_hits_at_k</td><td>▁</td></tr><tr><td>testing.head.realistic.z_inverse_harmonic_mean_rank</td><td>▁</td></tr><tr><td>testing.tail.optimistic.adjusted_arithmetic_mean_rank</td><td>▁</td></tr><tr><td>testing.tail.optimistic.adjusted_arithmetic_mean_rank_index</td><td>▁</td></tr><tr><td>testing.tail.optimistic.adjusted_geometric_mean_rank_index</td><td>▁</td></tr><tr><td>testing.tail.optimistic.adjusted_hits_at_k</td><td>▁</td></tr><tr><td>testing.tail.optimistic.adjusted_inverse_harmonic_mean_rank</td><td>▁</td></tr><tr><td>testing.tail.optimistic.arithmetic_mean_rank</td><td>▁</td></tr><tr><td>testing.tail.optimistic.count</td><td>▁</td></tr><tr><td>testing.tail.optimistic.geometric_mean_rank</td><td>▁</td></tr><tr><td>testing.tail.optimistic.harmonic_mean_rank</td><td>▁</td></tr><tr><td>testing.tail.optimistic.hits_at_1</td><td>▁</td></tr><tr><td>testing.tail.optimistic.hits_at_10</td><td>▁</td></tr><tr><td>testing.tail.optimistic.hits_at_3</td><td>▁</td></tr><tr><td>testing.tail.optimistic.hits_at_5</td><td>▁</td></tr><tr><td>testing.tail.optimistic.inverse_arithmetic_mean_rank</td><td>▁</td></tr><tr><td>testing.tail.optimistic.inverse_geometric_mean_rank</td><td>▁</td></tr><tr><td>testing.tail.optimistic.inverse_harmonic_mean_rank</td><td>▁</td></tr><tr><td>testing.tail.optimistic.inverse_median_rank</td><td>▁</td></tr><tr><td>testing.tail.optimistic.median_absolute_deviation</td><td>▁</td></tr><tr><td>testing.tail.optimistic.median_rank</td><td>▁</td></tr><tr><td>testing.tail.optimistic.standard_deviation</td><td>▁</td></tr><tr><td>testing.tail.optimistic.variance</td><td>▁</td></tr><tr><td>testing.tail.optimistic.z_arithmetic_mean_rank</td><td>▁</td></tr><tr><td>testing.tail.optimistic.z_geometric_mean_rank</td><td>▁</td></tr><tr><td>testing.tail.optimistic.z_hits_at_k</td><td>▁</td></tr><tr><td>testing.tail.optimistic.z_inverse_harmonic_mean_rank</td><td>▁</td></tr><tr><td>testing.tail.pessimistic.adjusted_arithmetic_mean_rank</td><td>▁</td></tr><tr><td>testing.tail.pessimistic.adjusted_arithmetic_mean_rank_index</td><td>▁</td></tr><tr><td>testing.tail.pessimistic.adjusted_geometric_mean_rank_index</td><td>▁</td></tr><tr><td>testing.tail.pessimistic.adjusted_hits_at_k</td><td>▁</td></tr><tr><td>testing.tail.pessimistic.adjusted_inverse_harmonic_mean_rank</td><td>▁</td></tr><tr><td>testing.tail.pessimistic.arithmetic_mean_rank</td><td>▁</td></tr><tr><td>testing.tail.pessimistic.count</td><td>▁</td></tr><tr><td>testing.tail.pessimistic.geometric_mean_rank</td><td>▁</td></tr><tr><td>testing.tail.pessimistic.harmonic_mean_rank</td><td>▁</td></tr><tr><td>testing.tail.pessimistic.hits_at_1</td><td>▁</td></tr><tr><td>testing.tail.pessimistic.hits_at_10</td><td>▁</td></tr><tr><td>testing.tail.pessimistic.hits_at_3</td><td>▁</td></tr><tr><td>testing.tail.pessimistic.hits_at_5</td><td>▁</td></tr><tr><td>testing.tail.pessimistic.inverse_arithmetic_mean_rank</td><td>▁</td></tr><tr><td>testing.tail.pessimistic.inverse_geometric_mean_rank</td><td>▁</td></tr><tr><td>testing.tail.pessimistic.inverse_harmonic_mean_rank</td><td>▁</td></tr><tr><td>testing.tail.pessimistic.inverse_median_rank</td><td>▁</td></tr><tr><td>testing.tail.pessimistic.median_absolute_deviation</td><td>▁</td></tr><tr><td>testing.tail.pessimistic.median_rank</td><td>▁</td></tr><tr><td>testing.tail.pessimistic.standard_deviation</td><td>▁</td></tr><tr><td>testing.tail.pessimistic.variance</td><td>▁</td></tr><tr><td>testing.tail.pessimistic.z_arithmetic_mean_rank</td><td>▁</td></tr><tr><td>testing.tail.pessimistic.z_geometric_mean_rank</td><td>▁</td></tr><tr><td>testing.tail.pessimistic.z_hits_at_k</td><td>▁</td></tr><tr><td>testing.tail.pessimistic.z_inverse_harmonic_mean_rank</td><td>▁</td></tr><tr><td>testing.tail.realistic.adjusted_arithmetic_mean_rank</td><td>▁</td></tr><tr><td>testing.tail.realistic.adjusted_arithmetic_mean_rank_index</td><td>▁</td></tr><tr><td>testing.tail.realistic.adjusted_geometric_mean_rank_index</td><td>▁</td></tr><tr><td>testing.tail.realistic.adjusted_hits_at_k</td><td>▁</td></tr><tr><td>testing.tail.realistic.adjusted_inverse_harmonic_mean_rank</td><td>▁</td></tr><tr><td>testing.tail.realistic.arithmetic_mean_rank</td><td>▁</td></tr><tr><td>testing.tail.realistic.count</td><td>▁</td></tr><tr><td>testing.tail.realistic.geometric_mean_rank</td><td>▁</td></tr><tr><td>testing.tail.realistic.harmonic_mean_rank</td><td>▁</td></tr><tr><td>testing.tail.realistic.hits_at_1</td><td>▁</td></tr><tr><td>testing.tail.realistic.hits_at_10</td><td>▁</td></tr><tr><td>testing.tail.realistic.hits_at_3</td><td>▁</td></tr><tr><td>testing.tail.realistic.hits_at_5</td><td>▁</td></tr><tr><td>testing.tail.realistic.inverse_arithmetic_mean_rank</td><td>▁</td></tr><tr><td>testing.tail.realistic.inverse_geometric_mean_rank</td><td>▁</td></tr><tr><td>testing.tail.realistic.inverse_harmonic_mean_rank</td><td>▁</td></tr><tr><td>testing.tail.realistic.inverse_median_rank</td><td>▁</td></tr><tr><td>testing.tail.realistic.median_absolute_deviation</td><td>▁</td></tr><tr><td>testing.tail.realistic.median_rank</td><td>▁</td></tr><tr><td>testing.tail.realistic.standard_deviation</td><td>▁</td></tr><tr><td>testing.tail.realistic.variance</td><td>▁</td></tr><tr><td>testing.tail.realistic.z_arithmetic_mean_rank</td><td>▁</td></tr><tr><td>testing.tail.realistic.z_geometric_mean_rank</td><td>▁</td></tr><tr><td>testing.tail.realistic.z_hits_at_k</td><td>▁</td></tr><tr><td>testing.tail.realistic.z_inverse_harmonic_mean_rank</td><td>▁</td></tr><tr><td>times.final_evaluation</td><td>▁</td></tr><tr><td>times.total_training</td><td>▁</td></tr></table><br/></div><div class=\"wandb-col\"><h3>Run summary:</h3><br/><table class=\"wandb\"><tr><td>loss</td><td>0.52461</td></tr><tr><td>testing.both.optimistic.adjusted_arithmetic_mean_rank</td><td>0.83477</td></tr><tr><td>testing.both.optimistic.adjusted_arithmetic_mean_rank_index</td><td>0.16525</td></tr><tr><td>testing.both.optimistic.adjusted_geometric_mean_rank_index</td><td>0.23318</td></tr><tr><td>testing.both.optimistic.adjusted_hits_at_k</td><td>-0.00074</td></tr><tr><td>testing.both.optimistic.adjusted_inverse_harmonic_mean_rank</td><td>-3e-05</td></tr><tr><td>testing.both.optimistic.arithmetic_mean_rank</td><td>5655.97</td></tr><tr><td>testing.both.optimistic.count</td><td>100.0</td></tr><tr><td>testing.both.optimistic.geometric_mean_rank</td><td>3843.18759</td></tr><tr><td>testing.both.optimistic.harmonic_mean_rank</td><td>1406.25512</td></tr><tr><td>testing.both.optimistic.hits_at_1</td><td>0.0</td></tr><tr><td>testing.both.optimistic.hits_at_10</td><td>0.0</td></tr><tr><td>testing.both.optimistic.hits_at_3</td><td>0.0</td></tr><tr><td>testing.both.optimistic.hits_at_5</td><td>0.0</td></tr><tr><td>testing.both.optimistic.inverse_arithmetic_mean_rank</td><td>0.00018</td></tr><tr><td>testing.both.optimistic.inverse_geometric_mean_rank</td><td>0.00026</td></tr><tr><td>testing.both.optimistic.inverse_harmonic_mean_rank</td><td>0.00071</td></tr><tr><td>testing.both.optimistic.inverse_median_rank</td><td>0.00019</td></tr><tr><td>testing.both.optimistic.median_absolute_deviation</td><td>4040.09105</td></tr><tr><td>testing.both.optimistic.median_rank</td><td>5337.5</td></tr><tr><td>testing.both.optimistic.standard_deviation</td><td>3712.60257</td></tr><tr><td>testing.both.optimistic.variance</td><td>13783417.8291</td></tr><tr><td>testing.both.optimistic.z_arithmetic_mean_rank</td><td>2.86201</td></tr><tr><td>testing.both.optimistic.z_geometric_mean_rank</td><td>2.35313</td></tr><tr><td>testing.both.optimistic.z_hits_at_k</td><td>-0.27176</td></tr><tr><td>testing.both.optimistic.z_inverse_harmonic_mean_rank</td><td>-0.03061</td></tr><tr><td>testing.both.pessimistic.adjusted_arithmetic_mean_rank</td><td>0.83477</td></tr><tr><td>testing.both.pessimistic.adjusted_arithmetic_mean_rank_index</td><td>0.16525</td></tr><tr><td>testing.both.pessimistic.adjusted_geometric_mean_rank_index</td><td>0.23318</td></tr><tr><td>testing.both.pessimistic.adjusted_hits_at_k</td><td>-0.00074</td></tr><tr><td>testing.both.pessimistic.adjusted_inverse_harmonic_mean_rank</td><td>-3e-05</td></tr><tr><td>testing.both.pessimistic.arithmetic_mean_rank</td><td>5655.97</td></tr><tr><td>testing.both.pessimistic.count</td><td>100.0</td></tr><tr><td>testing.both.pessimistic.geometric_mean_rank</td><td>3843.18759</td></tr><tr><td>testing.both.pessimistic.harmonic_mean_rank</td><td>1406.25512</td></tr><tr><td>testing.both.pessimistic.hits_at_1</td><td>0.0</td></tr><tr><td>testing.both.pessimistic.hits_at_10</td><td>0.0</td></tr><tr><td>testing.both.pessimistic.hits_at_3</td><td>0.0</td></tr><tr><td>testing.both.pessimistic.hits_at_5</td><td>0.0</td></tr><tr><td>testing.both.pessimistic.inverse_arithmetic_mean_rank</td><td>0.00018</td></tr><tr><td>testing.both.pessimistic.inverse_geometric_mean_rank</td><td>0.00026</td></tr><tr><td>testing.both.pessimistic.inverse_harmonic_mean_rank</td><td>0.00071</td></tr><tr><td>testing.both.pessimistic.inverse_median_rank</td><td>0.00019</td></tr><tr><td>testing.both.pessimistic.median_absolute_deviation</td><td>4040.09105</td></tr><tr><td>testing.both.pessimistic.median_rank</td><td>5337.5</td></tr><tr><td>testing.both.pessimistic.standard_deviation</td><td>3712.60257</td></tr><tr><td>testing.both.pessimistic.variance</td><td>13783417.8291</td></tr><tr><td>testing.both.pessimistic.z_arithmetic_mean_rank</td><td>2.86201</td></tr><tr><td>testing.both.pessimistic.z_geometric_mean_rank</td><td>2.35313</td></tr><tr><td>testing.both.pessimistic.z_hits_at_k</td><td>-0.27176</td></tr><tr><td>testing.both.pessimistic.z_inverse_harmonic_mean_rank</td><td>-0.03061</td></tr><tr><td>testing.both.realistic.adjusted_arithmetic_mean_rank</td><td>0.83477</td></tr><tr><td>testing.both.realistic.adjusted_arithmetic_mean_rank_index</td><td>0.16525</td></tr><tr><td>testing.both.realistic.adjusted_geometric_mean_rank_index</td><td>0.23318</td></tr><tr><td>testing.both.realistic.adjusted_hits_at_k</td><td>-0.00074</td></tr><tr><td>testing.both.realistic.adjusted_inverse_harmonic_mean_rank</td><td>-3e-05</td></tr><tr><td>testing.both.realistic.arithmetic_mean_rank</td><td>5655.97021</td></tr><tr><td>testing.both.realistic.count</td><td>100.0</td></tr><tr><td>testing.both.realistic.geometric_mean_rank</td><td>3843.18945</td></tr><tr><td>testing.both.realistic.harmonic_mean_rank</td><td>1406.25493</td></tr><tr><td>testing.both.realistic.hits_at_1</td><td>0.0</td></tr><tr><td>testing.both.realistic.hits_at_10</td><td>0.0</td></tr><tr><td>testing.both.realistic.hits_at_3</td><td>0.0</td></tr><tr><td>testing.both.realistic.hits_at_5</td><td>0.0</td></tr><tr><td>testing.both.realistic.inverse_arithmetic_mean_rank</td><td>0.00018</td></tr><tr><td>testing.both.realistic.inverse_geometric_mean_rank</td><td>0.00026</td></tr><tr><td>testing.both.realistic.inverse_harmonic_mean_rank</td><td>0.00071</td></tr><tr><td>testing.both.realistic.inverse_median_rank</td><td>0.00019</td></tr><tr><td>testing.both.realistic.median_absolute_deviation</td><td>4040.09105</td></tr><tr><td>testing.both.realistic.median_rank</td><td>5337.5</td></tr><tr><td>testing.both.realistic.standard_deviation</td><td>3712.60254</td></tr><tr><td>testing.both.realistic.variance</td><td>13783418.0</td></tr><tr><td>testing.both.realistic.z_arithmetic_mean_rank</td><td>2.86201</td></tr><tr><td>testing.both.realistic.z_geometric_mean_rank</td><td>2.35312</td></tr><tr><td>testing.both.realistic.z_hits_at_k</td><td>-0.27176</td></tr><tr><td>testing.both.realistic.z_inverse_harmonic_mean_rank</td><td>-0.03061</td></tr><tr><td>testing.head.optimistic.adjusted_arithmetic_mean_rank</td><td>0.89659</td></tr><tr><td>testing.head.optimistic.adjusted_arithmetic_mean_rank_index</td><td>0.10343</td></tr><tr><td>testing.head.optimistic.adjusted_geometric_mean_rank_index</td><td>0.20372</td></tr><tr><td>testing.head.optimistic.adjusted_hits_at_k</td><td>-0.00074</td></tr><tr><td>testing.head.optimistic.adjusted_inverse_harmonic_mean_rank</td><td>-2e-05</td></tr><tr><td>testing.head.optimistic.arithmetic_mean_rank</td><td>6075.06</td></tr><tr><td>testing.head.optimistic.count</td><td>50.0</td></tr><tr><td>testing.head.optimistic.geometric_mean_rank</td><td>4010.50477</td></tr><tr><td>testing.head.optimistic.harmonic_mean_rank</td><td>1373.15615</td></tr><tr><td>testing.head.optimistic.hits_at_1</td><td>0.0</td></tr><tr><td>testing.head.optimistic.hits_at_10</td><td>0.0</td></tr><tr><td>testing.head.optimistic.hits_at_3</td><td>0.0</td></tr><tr><td>testing.head.optimistic.hits_at_5</td><td>0.0</td></tr><tr><td>testing.head.optimistic.inverse_arithmetic_mean_rank</td><td>0.00016</td></tr><tr><td>testing.head.optimistic.inverse_geometric_mean_rank</td><td>0.00025</td></tr><tr><td>testing.head.optimistic.inverse_harmonic_mean_rank</td><td>0.00073</td></tr><tr><td>testing.head.optimistic.inverse_median_rank</td><td>0.00019</td></tr><tr><td>testing.head.optimistic.median_absolute_deviation</td><td>4739.13799</td></tr><tr><td>testing.head.optimistic.median_rank</td><td>5365.5</td></tr><tr><td>testing.head.optimistic.standard_deviation</td><td>4058.61476</td></tr><tr><td>testing.head.optimistic.variance</td><td>16472353.7764</td></tr><tr><td>testing.head.optimistic.z_arithmetic_mean_rank</td><td>1.26662</td></tr><tr><td>testing.head.optimistic.z_geometric_mean_rank</td><td>1.46434</td></tr><tr><td>testing.head.optimistic.z_hits_at_k</td><td>-0.19216</td></tr><tr><td>testing.head.optimistic.z_inverse_harmonic_mean_rank</td><td>-0.0106</td></tr><tr><td>testing.head.pessimistic.adjusted_arithmetic_mean_rank</td><td>0.89659</td></tr><tr><td>testing.head.pessimistic.adjusted_arithmetic_mean_rank_index</td><td>0.10343</td></tr><tr><td>testing.head.pessimistic.adjusted_geometric_mean_rank_index</td><td>0.20372</td></tr><tr><td>testing.head.pessimistic.adjusted_hits_at_k</td><td>-0.00074</td></tr><tr><td>testing.head.pessimistic.adjusted_inverse_harmonic_mean_rank</td><td>-2e-05</td></tr><tr><td>testing.head.pessimistic.arithmetic_mean_rank</td><td>6075.06</td></tr><tr><td>testing.head.pessimistic.count</td><td>50.0</td></tr><tr><td>testing.head.pessimistic.geometric_mean_rank</td><td>4010.50477</td></tr><tr><td>testing.head.pessimistic.harmonic_mean_rank</td><td>1373.15615</td></tr><tr><td>testing.head.pessimistic.hits_at_1</td><td>0.0</td></tr><tr><td>testing.head.pessimistic.hits_at_10</td><td>0.0</td></tr><tr><td>testing.head.pessimistic.hits_at_3</td><td>0.0</td></tr><tr><td>testing.head.pessimistic.hits_at_5</td><td>0.0</td></tr><tr><td>testing.head.pessimistic.inverse_arithmetic_mean_rank</td><td>0.00016</td></tr><tr><td>testing.head.pessimistic.inverse_geometric_mean_rank</td><td>0.00025</td></tr><tr><td>testing.head.pessimistic.inverse_harmonic_mean_rank</td><td>0.00073</td></tr><tr><td>testing.head.pessimistic.inverse_median_rank</td><td>0.00019</td></tr><tr><td>testing.head.pessimistic.median_absolute_deviation</td><td>4739.13799</td></tr><tr><td>testing.head.pessimistic.median_rank</td><td>5365.5</td></tr><tr><td>testing.head.pessimistic.standard_deviation</td><td>4058.61476</td></tr><tr><td>testing.head.pessimistic.variance</td><td>16472353.7764</td></tr><tr><td>testing.head.pessimistic.z_arithmetic_mean_rank</td><td>1.26662</td></tr><tr><td>testing.head.pessimistic.z_geometric_mean_rank</td><td>1.46434</td></tr><tr><td>testing.head.pessimistic.z_hits_at_k</td><td>-0.19216</td></tr><tr><td>testing.head.pessimistic.z_inverse_harmonic_mean_rank</td><td>-0.0106</td></tr><tr><td>testing.head.realistic.adjusted_arithmetic_mean_rank</td><td>0.89659</td></tr><tr><td>testing.head.realistic.adjusted_arithmetic_mean_rank_index</td><td>0.10343</td></tr><tr><td>testing.head.realistic.adjusted_geometric_mean_rank_index</td><td>0.20372</td></tr><tr><td>testing.head.realistic.adjusted_hits_at_k</td><td>-0.00074</td></tr><tr><td>testing.head.realistic.adjusted_inverse_harmonic_mean_rank</td><td>-2e-05</td></tr><tr><td>testing.head.realistic.arithmetic_mean_rank</td><td>6075.06006</td></tr><tr><td>testing.head.realistic.count</td><td>50.0</td></tr><tr><td>testing.head.realistic.geometric_mean_rank</td><td>4010.50659</td></tr><tr><td>testing.head.realistic.harmonic_mean_rank</td><td>1373.15622</td></tr><tr><td>testing.head.realistic.hits_at_1</td><td>0.0</td></tr><tr><td>testing.head.realistic.hits_at_10</td><td>0.0</td></tr><tr><td>testing.head.realistic.hits_at_3</td><td>0.0</td></tr><tr><td>testing.head.realistic.hits_at_5</td><td>0.0</td></tr><tr><td>testing.head.realistic.inverse_arithmetic_mean_rank</td><td>0.00016</td></tr><tr><td>testing.head.realistic.inverse_geometric_mean_rank</td><td>0.00025</td></tr><tr><td>testing.head.realistic.inverse_harmonic_mean_rank</td><td>0.00073</td></tr><tr><td>testing.head.realistic.inverse_median_rank</td><td>0.00019</td></tr><tr><td>testing.head.realistic.median_absolute_deviation</td><td>4739.13799</td></tr><tr><td>testing.head.realistic.median_rank</td><td>5365.5</td></tr><tr><td>testing.head.realistic.standard_deviation</td><td>4058.61499</td></tr><tr><td>testing.head.realistic.variance</td><td>16472355.0</td></tr><tr><td>testing.head.realistic.z_arithmetic_mean_rank</td><td>1.26662</td></tr><tr><td>testing.head.realistic.z_geometric_mean_rank</td><td>1.46433</td></tr><tr><td>testing.head.realistic.z_hits_at_k</td><td>-0.19216</td></tr><tr><td>testing.head.realistic.z_inverse_harmonic_mean_rank</td><td>-0.0106</td></tr><tr><td>testing.tail.optimistic.adjusted_arithmetic_mean_rank</td><td>0.77295</td></tr><tr><td>testing.tail.optimistic.adjusted_arithmetic_mean_rank_index</td><td>0.22708</td></tr><tr><td>testing.tail.optimistic.adjusted_geometric_mean_rank_index</td><td>0.26873</td></tr><tr><td>testing.tail.optimistic.adjusted_hits_at_k</td><td>-0.00074</td></tr><tr><td>testing.tail.optimistic.adjusted_inverse_harmonic_mean_rank</td><td>-5e-05</td></tr><tr><td>testing.tail.optimistic.arithmetic_mean_rank</td><td>5236.88</td></tr><tr><td>testing.tail.optimistic.count</td><td>50.0</td></tr><tr><td>testing.tail.optimistic.geometric_mean_rank</td><td>3682.85083</td></tr><tr><td>testing.tail.optimistic.harmonic_mean_rank</td><td>1440.98915</td></tr><tr><td>testing.tail.optimistic.hits_at_1</td><td>0.0</td></tr><tr><td>testing.tail.optimistic.hits_at_10</td><td>0.0</td></tr><tr><td>testing.tail.optimistic.hits_at_3</td><td>0.0</td></tr><tr><td>testing.tail.optimistic.hits_at_5</td><td>0.0</td></tr><tr><td>testing.tail.optimistic.inverse_arithmetic_mean_rank</td><td>0.00019</td></tr><tr><td>testing.tail.optimistic.inverse_geometric_mean_rank</td><td>0.00027</td></tr><tr><td>testing.tail.optimistic.inverse_harmonic_mean_rank</td><td>0.00069</td></tr><tr><td>testing.tail.optimistic.inverse_median_rank</td><td>0.00019</td></tr><tr><td>testing.tail.optimistic.median_absolute_deviation</td><td>3320.28767</td></tr><tr><td>testing.tail.optimistic.median_rank</td><td>5229.5</td></tr><tr><td>testing.tail.optimistic.standard_deviation</td><td>3277.68348</td></tr><tr><td>testing.tail.optimistic.variance</td><td>10743209.0256</td></tr><tr><td>testing.tail.optimistic.z_arithmetic_mean_rank</td><td>2.78094</td></tr><tr><td>testing.tail.optimistic.z_geometric_mean_rank</td><td>1.9316</td></tr><tr><td>testing.tail.optimistic.z_hits_at_k</td><td>-0.19217</td></tr><tr><td>testing.tail.optimistic.z_inverse_harmonic_mean_rank</td><td>-0.03269</td></tr><tr><td>testing.tail.pessimistic.adjusted_arithmetic_mean_rank</td><td>0.77295</td></tr><tr><td>testing.tail.pessimistic.adjusted_arithmetic_mean_rank_index</td><td>0.22708</td></tr><tr><td>testing.tail.pessimistic.adjusted_geometric_mean_rank_index</td><td>0.26873</td></tr><tr><td>testing.tail.pessimistic.adjusted_hits_at_k</td><td>-0.00074</td></tr><tr><td>testing.tail.pessimistic.adjusted_inverse_harmonic_mean_rank</td><td>-5e-05</td></tr><tr><td>testing.tail.pessimistic.arithmetic_mean_rank</td><td>5236.88</td></tr><tr><td>testing.tail.pessimistic.count</td><td>50.0</td></tr><tr><td>testing.tail.pessimistic.geometric_mean_rank</td><td>3682.85083</td></tr><tr><td>testing.tail.pessimistic.harmonic_mean_rank</td><td>1440.98915</td></tr><tr><td>testing.tail.pessimistic.hits_at_1</td><td>0.0</td></tr><tr><td>testing.tail.pessimistic.hits_at_10</td><td>0.0</td></tr><tr><td>testing.tail.pessimistic.hits_at_3</td><td>0.0</td></tr><tr><td>testing.tail.pessimistic.hits_at_5</td><td>0.0</td></tr><tr><td>testing.tail.pessimistic.inverse_arithmetic_mean_rank</td><td>0.00019</td></tr><tr><td>testing.tail.pessimistic.inverse_geometric_mean_rank</td><td>0.00027</td></tr><tr><td>testing.tail.pessimistic.inverse_harmonic_mean_rank</td><td>0.00069</td></tr><tr><td>testing.tail.pessimistic.inverse_median_rank</td><td>0.00019</td></tr><tr><td>testing.tail.pessimistic.median_absolute_deviation</td><td>3320.28767</td></tr><tr><td>testing.tail.pessimistic.median_rank</td><td>5229.5</td></tr><tr><td>testing.tail.pessimistic.standard_deviation</td><td>3277.68348</td></tr><tr><td>testing.tail.pessimistic.variance</td><td>10743209.0256</td></tr><tr><td>testing.tail.pessimistic.z_arithmetic_mean_rank</td><td>2.78094</td></tr><tr><td>testing.tail.pessimistic.z_geometric_mean_rank</td><td>1.9316</td></tr><tr><td>testing.tail.pessimistic.z_hits_at_k</td><td>-0.19217</td></tr><tr><td>testing.tail.pessimistic.z_inverse_harmonic_mean_rank</td><td>-0.03269</td></tr><tr><td>testing.tail.realistic.adjusted_arithmetic_mean_rank</td><td>0.77295</td></tr><tr><td>testing.tail.realistic.adjusted_arithmetic_mean_rank_index</td><td>0.22708</td></tr><tr><td>testing.tail.realistic.adjusted_geometric_mean_rank_index</td><td>0.26873</td></tr><tr><td>testing.tail.realistic.adjusted_hits_at_k</td><td>-0.00074</td></tr><tr><td>testing.tail.realistic.adjusted_inverse_harmonic_mean_rank</td><td>-5e-05</td></tr><tr><td>testing.tail.realistic.arithmetic_mean_rank</td><td>5236.87988</td></tr><tr><td>testing.tail.realistic.count</td><td>50.0</td></tr><tr><td>testing.tail.realistic.geometric_mean_rank</td><td>3682.84937</td></tr><tr><td>testing.tail.realistic.harmonic_mean_rank</td><td>1440.98917</td></tr><tr><td>testing.tail.realistic.hits_at_1</td><td>0.0</td></tr><tr><td>testing.tail.realistic.hits_at_10</td><td>0.0</td></tr><tr><td>testing.tail.realistic.hits_at_3</td><td>0.0</td></tr><tr><td>testing.tail.realistic.hits_at_5</td><td>0.0</td></tr><tr><td>testing.tail.realistic.inverse_arithmetic_mean_rank</td><td>0.00019</td></tr><tr><td>testing.tail.realistic.inverse_geometric_mean_rank</td><td>0.00027</td></tr><tr><td>testing.tail.realistic.inverse_harmonic_mean_rank</td><td>0.00069</td></tr><tr><td>testing.tail.realistic.inverse_median_rank</td><td>0.00019</td></tr><tr><td>testing.tail.realistic.median_absolute_deviation</td><td>3320.28767</td></tr><tr><td>testing.tail.realistic.median_rank</td><td>5229.5</td></tr><tr><td>testing.tail.realistic.standard_deviation</td><td>3277.68359</td></tr><tr><td>testing.tail.realistic.variance</td><td>10743209.0</td></tr><tr><td>testing.tail.realistic.z_arithmetic_mean_rank</td><td>2.78094</td></tr><tr><td>testing.tail.realistic.z_geometric_mean_rank</td><td>1.9316</td></tr><tr><td>testing.tail.realistic.z_hits_at_k</td><td>-0.19217</td></tr><tr><td>testing.tail.realistic.z_inverse_harmonic_mean_rank</td><td>-0.03269</td></tr><tr><td>times.final_evaluation</td><td>0.44177</td></tr><tr><td>times.total_training</td><td>35.97552</td></tr></table><br/></div></div>"
      ],
      "text/plain": [
       "<IPython.core.display.HTML object>"
      ]
     },
     "metadata": {},
     "output_type": "display_data"
    },
    {
     "data": {
      "text/html": [
       " View run <strong style=\"color:#cdcd00\">feasible-dream-7</strong> at: <a href='https://wandb.ai/fieng/WN18RR-embedding/runs/j24s6f4t' target=\"_blank\">https://wandb.ai/fieng/WN18RR-embedding/runs/j24s6f4t</a><br/> View project at: <a href='https://wandb.ai/fieng/WN18RR-embedding' target=\"_blank\">https://wandb.ai/fieng/WN18RR-embedding</a><br/>Synced 6 W&B file(s), 0 media file(s), 0 artifact file(s) and 0 other file(s)"
      ],
      "text/plain": [
       "<IPython.core.display.HTML object>"
      ]
     },
     "metadata": {},
     "output_type": "display_data"
    },
    {
     "data": {
      "text/html": [
       "Find logs at: <code>./wandb/run-20240906_130028-j24s6f4t/logs</code>"
      ],
      "text/plain": [
       "<IPython.core.display.HTML object>"
      ]
     },
     "metadata": {},
     "output_type": "display_data"
    },
    {
     "data": {
      "text/html": [
       "The new W&B backend becomes opt-out in version 0.18.0; try it out with `wandb.require(\"core\")`! See https://wandb.me/wandb-core for more information."
      ],
      "text/plain": [
       "<IPython.core.display.HTML object>"
      ]
     },
     "metadata": {},
     "output_type": "display_data"
    }
   ],
   "source": [
    "sub_df = df.sample(int(0.3*len(df)))\n",
    "train_df = train_model.create_dataset(\n",
    "    sub_df)\n",
    "test_df = train_model.create_dataset(\n",
    "    sub_df.sample(n=50))\n",
    "\n",
    "model_name = \"TransE\"\n",
    "embedding_dim = 5\n",
    "\n",
    "\n",
    "model_kwargs = {\"embedding_dim\": embedding_dim}\n",
    "experiment_name = model_name+f\"_dim{embedding_dim}\"\n",
    "model = train_model.create_pipeline(train_df, test_df,\n",
    "                    model_name, model_kwargs, experiment_name)"
   ]
  }
 ],
 "metadata": {
  "kernelspec": {
   "display_name": "kg-emb",
   "language": "python",
   "name": "python3"
  },
  "language_info": {
   "codemirror_mode": {
    "name": "ipython",
    "version": 3
   },
   "file_extension": ".py",
   "mimetype": "text/x-python",
   "name": "python",
   "nbconvert_exporter": "python",
   "pygments_lexer": "ipython3",
   "version": "3.12.1"
  }
 },
 "nbformat": 4,
 "nbformat_minor": 2
}
