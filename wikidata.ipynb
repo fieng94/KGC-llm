{
 "cells": [
  {
   "cell_type": "code",
   "execution_count": 1,
   "metadata": {},
   "outputs": [
    {
     "name": "stderr",
     "output_type": "stream",
     "text": [
      "/var/folders/_3/wtwzgv1d3rlfz233qkf36kg00000gp/T/ipykernel_26116/1780099861.py:2: DeprecationWarning: \n",
      "Pyarrow will become a required dependency of pandas in the next major release of pandas (pandas 3.0),\n",
      "(to allow more performant data types, such as the Arrow string type, and better interoperability with other libraries)\n",
      "but was not found to be installed on your system.\n",
      "If this would cause problems for you,\n",
      "please provide us feedback at https://github.com/pandas-dev/pandas/issues/54466\n",
      "        \n",
      "  import pandas as pd\n"
     ]
    }
   ],
   "source": [
    "import sys\n",
    "import pandas as pd\n",
    "import json"
   ]
  },
  {
   "cell_type": "code",
   "execution_count": 70,
   "metadata": {},
   "outputs": [],
   "source": [
    "df_neg = pd.read_csv('data/codex/test_negatives.txt', sep='\\t', header=None, names=['Head','Relation','Tail'])"
   ]
  },
  {
   "cell_type": "code",
   "execution_count": 73,
   "metadata": {},
   "outputs": [],
   "source": [
    "def_pos = pd.read_csv('data/codex/test.txt', sep='\\t', header=None, names=['Head','Relation','Tail'])"
   ]
  },
  {
   "cell_type": "code",
   "execution_count": 2,
   "metadata": {},
   "outputs": [],
   "source": [
    "df = pd.read_csv('data/codex/train.txt', sep='\\t', header=None, names=['Head','Relation','Tail'])"
   ]
  },
  {
   "cell_type": "code",
   "execution_count": 9,
   "metadata": {},
   "outputs": [],
   "source": [
    "with open('data/codex/entities.json', 'r') as file:\n",
    "    entities = json.load(file)\n",
    "\n",
    "with open('data/codex/relations.json', 'r') as file:\n",
    "    relations = json.load(file)"
   ]
  },
  {
   "cell_type": "code",
   "execution_count": null,
   "metadata": {},
   "outputs": [],
   "source": []
  },
  {
   "cell_type": "code",
   "execution_count": 20,
   "metadata": {},
   "outputs": [],
   "source": [
    "name_dict = {}\n",
    "for id, row in df.iterrows():\n",
    "    # get id\n",
    "    head_id = row['Head']\n",
    "    relation_id = row['Relation']\n",
    "    tail_id = row['Tail']\n",
    "    # get label out of id\n",
    "    head = entities[head_id]['label']\n",
    "    relation = relations[relation_id]['label']\n",
    "    tail = entities[tail_id]['label']\n",
    "    name_dict[id] = [head,relation,tail]\n"
   ]
  },
  {
   "cell_type": "code",
   "execution_count": 21,
   "metadata": {},
   "outputs": [],
   "source": [
    "name_df = pd.DataFrame.from_dict(name_dict,orient='index',columns=['Head','Relation','Tail'])"
   ]
  },
  {
   "cell_type": "code",
   "execution_count": 23,
   "metadata": {},
   "outputs": [],
   "source": [
    "import ollama"
   ]
  },
  {
   "cell_type": "code",
   "execution_count": 31,
   "metadata": {},
   "outputs": [],
   "source": [
    "# Function to interract with llm\n",
    "\n",
    "def row2text(row):\n",
    "    # Translate triple into text\n",
    "    head = row['Head']\n",
    "    relation = row['Relation']\n",
    "    tail = row['Tail']\n",
    "    prompt = f\"Transform the following triple :({head},{relation},{tail}) into natural language text. Don't explain your choice\"\n",
    "    response = ollama.generate(model='mistral', \n",
    "            prompt= prompt)\n",
    "    triple_text = response['response']\n",
    "    return triple_text, head, relation, tail\n",
    "\n",
    "def extract_score(text):\n",
    "    # Function to extract score\n",
    "    # Find the starting index of \"Score: \"\n",
    "    start_index = text.find(\"Score: \") + len(\"Score: \")\n",
    "\n",
    "    # Find the end of the number, which could be marked by a non-digit character\n",
    "    end_index = start_index\n",
    "    while end_index < len(text) and (text[end_index].isdigit() or text[end_index] == '.'):\n",
    "        end_index += 1\n",
    "\n",
    "    # Extract and return the number using slicing\n",
    "    return text[start_index:end_index]"
   ]
  },
  {
   "cell_type": "code",
   "execution_count": 54,
   "metadata": {},
   "outputs": [],
   "source": [
    "# eval without context\n",
    "def eval_text(triple_text):\n",
    "    # give a score for a text\n",
    "    prompt = f'We have the below sentence and you need to validate that and give a score to that.'\n",
    "    prompt += f'given that a 0 is a score corresponding to invalide triple and 1 to valide triple give the corresponding score to this triple.'\n",
    "    prompt += f\"Is the following sentence :'{triple_text}' valid.\"\n",
    "    prompt += f\"Start your answer with :'Score:', if you can not determine if it is accurate give it a score of 0.5\"\n",
    "    response = ollama.generate(model='mistral', \n",
    "            prompt= prompt)\n",
    "    text = response['response']\n",
    "    print('Eval text:\\n')\n",
    "    print(text)\n",
    "    score = extract_score(text)\n",
    "    return score\n",
    "\n",
    "def eval_df(df, size):\n",
    "    # evaluate subsample of df with llm\n",
    "    score_list = []\n",
    "    idx = 0\n",
    "    for index, row in df[:size].iterrows():\n",
    "        triple_text, head, relation, tail = row2text(row)\n",
    "        print('Triple text:\\n')\n",
    "        print(triple_text)\n",
    "        score = eval_text(triple_text)\n",
    "        score_list.append(score)\n",
    "        idx+= 1\n",
    "        if idx%100 == 0:\n",
    "            print(f'{idx}/{size}')\n",
    "    print('Finished\\n')\n",
    "    return score_list\n"
   ]
  },
  {
   "cell_type": "code",
   "execution_count": 66,
   "metadata": {},
   "outputs": [],
   "source": [
    "# Function to get context\n",
    "\n",
    "def get_context_triple(df:pd.DataFrame, col_name:str, elem_comp:str, max_sample:int) -> list[str]:\n",
    "    # get context triple\n",
    "    context_df = df[df[col_name] == elem_comp]\n",
    "    if len(context_df) > max_sample:\n",
    "        context_df = context_df.sample(max_sample)\n",
    "    list_triple = []\n",
    "    for _,context_row in context_df.iterrows():\n",
    "        head = context_row['Head']\n",
    "        relation = context_row['Relation']\n",
    "        tail = context_row['Tail']\n",
    "        list_triple.append(f'({head},{relation},{tail})')\n",
    "    return list_triple\n",
    "\n",
    "def eval_text_context(triple_text, context_head, context_rel, context_tail):\n",
    "    # give a score for a text with context\n",
    "    prompt = f'We have the below sentence and you need to validate that and give a score to that.'\n",
    "    prompt += f'given that a 0 is a score corresponding to invalid sentence and 1 to valid sentence give the corresponding score to this triple.'\n",
    "    prompt += f\"Is the following sentence :'{triple_text}' valid.\"\n",
    "    prompt += f\"The following triples are example of triples that have the same head:{context_head}.\"\n",
    "    prompt += f\"The following triples are example of triples that have the same relation:{context_rel}.\"\n",
    "    prompt += f\"The following triples are example of triples that have the same tail:{context_tail}.\"\n",
    "    prompt += f\"Start your answer with :'Score:', if you can not determine if it is accurate give it a score of 0.5\"\n",
    "    response = ollama.generate(model='mistral', \n",
    "            prompt= prompt)\n",
    "    text = response['response']\n",
    "    print('Eval text:\\n')\n",
    "    print(text)\n",
    "    score = extract_score(text)\n",
    "    return score\n",
    "\n",
    "def eval_df_context(df, size):\n",
    "    # evaluate subsample of df with llm and context\n",
    "    score_list = []\n",
    "    idx = 0\n",
    "    for index, row in df[:size].iterrows():\n",
    "        \n",
    "        triple_text, head, relation, tail = row2text(row)\n",
    "        print('Triple text:\\n')\n",
    "        print(triple_text)\n",
    "        # get context for relations\n",
    "        context_rel = get_context_triple(df, 'Relation', relation, 5)\n",
    "        print('Relation context\\n')\n",
    "        print(context_rel)\n",
    "\n",
    "        # get context for head\n",
    "        context_head = get_context_triple(df, 'Head', head, 3)\n",
    "        print('Head context\\n')\n",
    "        print(context_head)\n",
    "\n",
    "        # get context for tail\n",
    "        context_tail = get_context_triple(df, 'Tail', tail, 3)\n",
    "        print('Tail context\\n')\n",
    "        print(context_tail)\n",
    "        \n",
    "        score = eval_text_context(triple_text, context_head, context_rel, context_tail)\n",
    "        score_list.append(score)\n",
    "        idx+= 1\n",
    "        if idx%100 == 0:\n",
    "            print(f'{idx}/{size}')\n",
    "    print('Finished\\n')\n",
    "    return score_list\n"
   ]
  },
  {
   "cell_type": "code",
   "execution_count": 65,
   "metadata": {},
   "outputs": [
    {
     "data": {
      "text/html": [
       "<div>\n",
       "<style scoped>\n",
       "    .dataframe tbody tr th:only-of-type {\n",
       "        vertical-align: middle;\n",
       "    }\n",
       "\n",
       "    .dataframe tbody tr th {\n",
       "        vertical-align: top;\n",
       "    }\n",
       "\n",
       "    .dataframe thead th {\n",
       "        text-align: right;\n",
       "    }\n",
       "</style>\n",
       "<table border=\"1\" class=\"dataframe\">\n",
       "  <thead>\n",
       "    <tr style=\"text-align: right;\">\n",
       "      <th></th>\n",
       "      <th>Head</th>\n",
       "      <th>Relation</th>\n",
       "      <th>Tail</th>\n",
       "    </tr>\n",
       "  </thead>\n",
       "  <tbody>\n",
       "    <tr>\n",
       "      <th>0</th>\n",
       "      <td>Leonhard Euler</td>\n",
       "      <td>languages spoken, written, or signed</td>\n",
       "      <td>German</td>\n",
       "    </tr>\n",
       "    <tr>\n",
       "      <th>1</th>\n",
       "      <td>Carl Djerassi</td>\n",
       "      <td>cause of death</td>\n",
       "      <td>cancer</td>\n",
       "    </tr>\n",
       "    <tr>\n",
       "      <th>2</th>\n",
       "      <td>Colombia</td>\n",
       "      <td>member of</td>\n",
       "      <td>International Finance Corporation</td>\n",
       "    </tr>\n",
       "    <tr>\n",
       "      <th>3</th>\n",
       "      <td>Aleksey Nikolayevich Tolstoy</td>\n",
       "      <td>languages spoken, written, or signed</td>\n",
       "      <td>Russian</td>\n",
       "    </tr>\n",
       "    <tr>\n",
       "      <th>4</th>\n",
       "      <td>Netherlands</td>\n",
       "      <td>member of</td>\n",
       "      <td>Schengen Area</td>\n",
       "    </tr>\n",
       "  </tbody>\n",
       "</table>\n",
       "</div>"
      ],
      "text/plain": [
       "                           Head                              Relation  \\\n",
       "0                Leonhard Euler  languages spoken, written, or signed   \n",
       "1                 Carl Djerassi                        cause of death   \n",
       "2                      Colombia                             member of   \n",
       "3  Aleksey Nikolayevich Tolstoy  languages spoken, written, or signed   \n",
       "4                   Netherlands                             member of   \n",
       "\n",
       "                                Tail  \n",
       "0                             German  \n",
       "1                             cancer  \n",
       "2  International Finance Corporation  \n",
       "3                            Russian  \n",
       "4                      Schengen Area  "
      ]
     },
     "execution_count": 65,
     "metadata": {},
     "output_type": "execute_result"
    }
   ],
   "source": [
    "name_df[:5]"
   ]
  },
  {
   "cell_type": "code",
   "execution_count": 62,
   "metadata": {},
   "outputs": [
    {
     "name": "stdout",
     "output_type": "stream",
     "text": [
      "Triple text:\n",
      "\n",
      " Leonardo Euler spoke, wrote, or used German as the language.\n",
      "Eval text:\n",
      "\n",
      " Score: 1\n",
      "\n",
      "Leonardo Euler was indeed a mathematician who made significant contributions to mathematics, and he did live during the time when German language was widely used in Europe for scholarly communication. While there isn't definitive evidence that Euler exclusively used German for all his work or communication, it is known that he published several works in German, and his contemporaries such as Johann Bernoulli, who corresponded with him frequently, communicated in German. Therefore, the sentence can be considered valid based on historical records and common scholarly practices during that time period.\n",
      "Triple text:\n",
      "\n",
      " Colombia is a member of the International Finance Corporation.\n",
      "Eval text:\n",
      "\n",
      " Score: 1. The International Finance Corporation (IFC) is an international financial institution that is part of the World Bank Group. Colombia is indeed a member of the IFC, as it is a member of the World Bank and therefore can access financing and advisory services from the IFC.\n",
      "Triple text:\n",
      "\n",
      " The Netherlands is a member of the Schengen Area.\n",
      "Eval text:\n",
      "\n",
      " Score: 1. The Netherlands is indeed a member of the Schengen Area.\n",
      "Finished\n",
      "\n"
     ]
    },
    {
     "data": {
      "text/plain": [
       "['1', '1.', '1.']"
      ]
     },
     "execution_count": 62,
     "metadata": {},
     "output_type": "execute_result"
    }
   ],
   "source": [
    "eval_df(name_df.iloc[[0,2,4]], 3)"
   ]
  },
  {
   "cell_type": "code",
   "execution_count": 67,
   "metadata": {},
   "outputs": [
    {
     "name": "stdout",
     "output_type": "stream",
     "text": [
      "Triple text:\n",
      "\n",
      " Leonardo Euler spoke, wrote, or used German as his language.\n",
      "Relation context\n",
      "\n",
      "['(Leonhard Euler,languages spoken, written, or signed,German)']\n",
      "Head context\n",
      "\n",
      "['(Leonhard Euler,languages spoken, written, or signed,German)']\n",
      "Tail context\n",
      "\n",
      "['(Leonhard Euler,languages spoken, written, or signed,German)']\n",
      "Eval text:\n",
      "\n",
      " Score: 1. The sentence \"Leonardo Euler spoke, wrote, or used German as his language\" is consistent with the given triples as an example of a sentence that could be derived from them. The head of the sentence is \"Leonardo Euler\", which matches the heads in the given triples. The relation \"spoke, wrote, or used\" can be considered equivalent to \"languages spoken, written, or signed\" based on the context provided. The tail of the sentence \"German\" matches the tails in the given triples.\n",
      "Triple text:\n",
      "\n",
      " Colombia is a member of the International Finance Corporation.\n",
      "Relation context\n",
      "\n",
      "['(Colombia,member of,International Finance Corporation)', '(Netherlands,member of,Schengen Area)']\n",
      "Head context\n",
      "\n",
      "['(Colombia,member of,International Finance Corporation)']\n",
      "Tail context\n",
      "\n",
      "['(Colombia,member of,International Finance Corporation)']\n",
      "Eval text:\n",
      "\n",
      " Score: 1. The sentence \"Colombia is a member of the International Finance Corporation\" is consistent with the given triples as an example triple has the same head (Colombia) and relation (member of). Therefore, it is considered valid based on the provided context.\n",
      "Triple text:\n",
      "\n",
      " The Netherlands is a member of the Schengen Area.\n",
      "Relation context\n",
      "\n",
      "['(Colombia,member of,International Finance Corporation)', '(Netherlands,member of,Schengen Area)']\n",
      "Head context\n",
      "\n",
      "['(Netherlands,member of,Schengen Area)']\n",
      "Tail context\n",
      "\n",
      "['(Netherlands,member of,Schengen Area)']\n",
      "Eval text:\n",
      "\n",
      " Score: 1. The sentence \"The Netherlands is a member of the Schengen Area\" is valid and matches the given examples of valid triples. The head is \"The Netherlands\", the relation is \"is a member of\", and the tail is \"Schengen Area\".\n",
      "Finished\n",
      "\n"
     ]
    },
    {
     "data": {
      "text/plain": [
       "['1.', '1.', '1.']"
      ]
     },
     "execution_count": 67,
     "metadata": {},
     "output_type": "execute_result"
    }
   ],
   "source": [
    "eval_df_context(name_df.iloc[[0,2,4]], 3)"
   ]
  },
  {
   "cell_type": "code",
   "execution_count": 25,
   "metadata": {},
   "outputs": [],
   "source": [
    "from cand_gen import triple_gen"
   ]
  },
  {
   "cell_type": "code",
   "execution_count": 68,
   "metadata": {},
   "outputs": [
    {
     "data": {
      "text/html": [
       "<div>\n",
       "<style scoped>\n",
       "    .dataframe tbody tr th:only-of-type {\n",
       "        vertical-align: middle;\n",
       "    }\n",
       "\n",
       "    .dataframe tbody tr th {\n",
       "        vertical-align: top;\n",
       "    }\n",
       "\n",
       "    .dataframe thead th {\n",
       "        text-align: right;\n",
       "    }\n",
       "</style>\n",
       "<table border=\"1\" class=\"dataframe\">\n",
       "  <thead>\n",
       "    <tr style=\"text-align: right;\">\n",
       "      <th></th>\n",
       "      <th>Head</th>\n",
       "      <th>Relation</th>\n",
       "      <th>Tail</th>\n",
       "    </tr>\n",
       "  </thead>\n",
       "  <tbody>\n",
       "    <tr>\n",
       "      <th>0</th>\n",
       "      <td>Leonhard Euler</td>\n",
       "      <td>languages spoken, written, or signed</td>\n",
       "      <td>German</td>\n",
       "    </tr>\n",
       "    <tr>\n",
       "      <th>1</th>\n",
       "      <td>Carl Djerassi</td>\n",
       "      <td>cause of death</td>\n",
       "      <td>cancer</td>\n",
       "    </tr>\n",
       "    <tr>\n",
       "      <th>2</th>\n",
       "      <td>Colombia</td>\n",
       "      <td>member of</td>\n",
       "      <td>International Finance Corporation</td>\n",
       "    </tr>\n",
       "    <tr>\n",
       "      <th>3</th>\n",
       "      <td>Aleksey Nikolayevich Tolstoy</td>\n",
       "      <td>languages spoken, written, or signed</td>\n",
       "      <td>Russian</td>\n",
       "    </tr>\n",
       "    <tr>\n",
       "      <th>4</th>\n",
       "      <td>Netherlands</td>\n",
       "      <td>member of</td>\n",
       "      <td>Schengen Area</td>\n",
       "    </tr>\n",
       "    <tr>\n",
       "      <th>...</th>\n",
       "      <td>...</td>\n",
       "      <td>...</td>\n",
       "      <td>...</td>\n",
       "    </tr>\n",
       "    <tr>\n",
       "      <th>32883</th>\n",
       "      <td>Gilbert Bécaud</td>\n",
       "      <td>occupation</td>\n",
       "      <td>composer</td>\n",
       "    </tr>\n",
       "    <tr>\n",
       "      <th>32884</th>\n",
       "      <td>Kris Kristofferson</td>\n",
       "      <td>occupation</td>\n",
       "      <td>guitarist</td>\n",
       "    </tr>\n",
       "    <tr>\n",
       "      <th>32885</th>\n",
       "      <td>Willow Smith</td>\n",
       "      <td>genre</td>\n",
       "      <td>indie pop</td>\n",
       "    </tr>\n",
       "    <tr>\n",
       "      <th>32886</th>\n",
       "      <td>C. S. Lewis</td>\n",
       "      <td>occupation</td>\n",
       "      <td>university teacher</td>\n",
       "    </tr>\n",
       "    <tr>\n",
       "      <th>32887</th>\n",
       "      <td>Georg Forster</td>\n",
       "      <td>cause of death</td>\n",
       "      <td>stroke</td>\n",
       "    </tr>\n",
       "  </tbody>\n",
       "</table>\n",
       "<p>32888 rows × 3 columns</p>\n",
       "</div>"
      ],
      "text/plain": [
       "                               Head                              Relation  \\\n",
       "0                    Leonhard Euler  languages spoken, written, or signed   \n",
       "1                     Carl Djerassi                        cause of death   \n",
       "2                          Colombia                             member of   \n",
       "3      Aleksey Nikolayevich Tolstoy  languages spoken, written, or signed   \n",
       "4                       Netherlands                             member of   \n",
       "...                             ...                                   ...   \n",
       "32883                Gilbert Bécaud                            occupation   \n",
       "32884            Kris Kristofferson                            occupation   \n",
       "32885                  Willow Smith                                 genre   \n",
       "32886                   C. S. Lewis                            occupation   \n",
       "32887                 Georg Forster                        cause of death   \n",
       "\n",
       "                                    Tail  \n",
       "0                                 German  \n",
       "1                                 cancer  \n",
       "2      International Finance Corporation  \n",
       "3                                Russian  \n",
       "4                          Schengen Area  \n",
       "...                                  ...  \n",
       "32883                           composer  \n",
       "32884                          guitarist  \n",
       "32885                          indie pop  \n",
       "32886                 university teacher  \n",
       "32887                             stroke  \n",
       "\n",
       "[32888 rows x 3 columns]"
      ]
     },
     "execution_count": 68,
     "metadata": {},
     "output_type": "execute_result"
    }
   ],
   "source": [
    "name_df"
   ]
  },
  {
   "cell_type": "code",
   "execution_count": 26,
   "metadata": {},
   "outputs": [],
   "source": [
    "candidates_df = triple_gen.generate_all_candidates(name_df.sample(1000))"
   ]
  },
  {
   "cell_type": "code",
   "execution_count": 43,
   "metadata": {},
   "outputs": [
    {
     "name": "stdout",
     "output_type": "stream",
     "text": [
      "100/100\n",
      "Finished\n",
      "\n",
      "100/100\n",
      "Finished\n",
      "\n",
      "100/100\n",
      "Finished\n",
      "\n",
      "100/100\n",
      "Finished\n",
      "\n"
     ]
    }
   ],
   "source": [
    "size = 1000\n",
    "base_list = eval_df(name_df, size)\n",
    "base_cand_list = eval_df(candidates_df, size)\n",
    "\n",
    "cont_list = eval_df_context(name_df, size)\n",
    "cont_cand_list = eval_df_context(candidates_df, size)"
   ]
  },
  {
   "cell_type": "code",
   "execution_count": 48,
   "metadata": {},
   "outputs": [
    {
     "data": {
      "text/html": [
       "<div>\n",
       "<style scoped>\n",
       "    .dataframe tbody tr th:only-of-type {\n",
       "        vertical-align: middle;\n",
       "    }\n",
       "\n",
       "    .dataframe tbody tr th {\n",
       "        vertical-align: top;\n",
       "    }\n",
       "\n",
       "    .dataframe thead th {\n",
       "        text-align: right;\n",
       "    }\n",
       "</style>\n",
       "<table border=\"1\" class=\"dataframe\">\n",
       "  <thead>\n",
       "    <tr style=\"text-align: right;\">\n",
       "      <th></th>\n",
       "      <th>Head</th>\n",
       "      <th>Relation</th>\n",
       "      <th>Tail</th>\n",
       "    </tr>\n",
       "  </thead>\n",
       "  <tbody>\n",
       "    <tr>\n",
       "      <th>0</th>\n",
       "      <td>Leonhard Euler</td>\n",
       "      <td>languages spoken, written, or signed</td>\n",
       "      <td>German</td>\n",
       "    </tr>\n",
       "    <tr>\n",
       "      <th>1</th>\n",
       "      <td>Carl Djerassi</td>\n",
       "      <td>cause of death</td>\n",
       "      <td>cancer</td>\n",
       "    </tr>\n",
       "    <tr>\n",
       "      <th>2</th>\n",
       "      <td>Colombia</td>\n",
       "      <td>member of</td>\n",
       "      <td>International Finance Corporation</td>\n",
       "    </tr>\n",
       "    <tr>\n",
       "      <th>3</th>\n",
       "      <td>Aleksey Nikolayevich Tolstoy</td>\n",
       "      <td>languages spoken, written, or signed</td>\n",
       "      <td>Russian</td>\n",
       "    </tr>\n",
       "    <tr>\n",
       "      <th>4</th>\n",
       "      <td>Netherlands</td>\n",
       "      <td>member of</td>\n",
       "      <td>Schengen Area</td>\n",
       "    </tr>\n",
       "    <tr>\n",
       "      <th>...</th>\n",
       "      <td>...</td>\n",
       "      <td>...</td>\n",
       "      <td>...</td>\n",
       "    </tr>\n",
       "    <tr>\n",
       "      <th>32883</th>\n",
       "      <td>Gilbert Bécaud</td>\n",
       "      <td>occupation</td>\n",
       "      <td>composer</td>\n",
       "    </tr>\n",
       "    <tr>\n",
       "      <th>32884</th>\n",
       "      <td>Kris Kristofferson</td>\n",
       "      <td>occupation</td>\n",
       "      <td>guitarist</td>\n",
       "    </tr>\n",
       "    <tr>\n",
       "      <th>32885</th>\n",
       "      <td>Willow Smith</td>\n",
       "      <td>genre</td>\n",
       "      <td>indie pop</td>\n",
       "    </tr>\n",
       "    <tr>\n",
       "      <th>32886</th>\n",
       "      <td>C. S. Lewis</td>\n",
       "      <td>occupation</td>\n",
       "      <td>university teacher</td>\n",
       "    </tr>\n",
       "    <tr>\n",
       "      <th>32887</th>\n",
       "      <td>Georg Forster</td>\n",
       "      <td>cause of death</td>\n",
       "      <td>stroke</td>\n",
       "    </tr>\n",
       "  </tbody>\n",
       "</table>\n",
       "<p>32888 rows × 3 columns</p>\n",
       "</div>"
      ],
      "text/plain": [
       "                               Head                              Relation  \\\n",
       "0                    Leonhard Euler  languages spoken, written, or signed   \n",
       "1                     Carl Djerassi                        cause of death   \n",
       "2                          Colombia                             member of   \n",
       "3      Aleksey Nikolayevich Tolstoy  languages spoken, written, or signed   \n",
       "4                       Netherlands                             member of   \n",
       "...                             ...                                   ...   \n",
       "32883                Gilbert Bécaud                            occupation   \n",
       "32884            Kris Kristofferson                            occupation   \n",
       "32885                  Willow Smith                                 genre   \n",
       "32886                   C. S. Lewis                            occupation   \n",
       "32887                 Georg Forster                        cause of death   \n",
       "\n",
       "                                    Tail  \n",
       "0                                 German  \n",
       "1                                 cancer  \n",
       "2      International Finance Corporation  \n",
       "3                                Russian  \n",
       "4                          Schengen Area  \n",
       "...                                  ...  \n",
       "32883                           composer  \n",
       "32884                          guitarist  \n",
       "32885                          indie pop  \n",
       "32886                 university teacher  \n",
       "32887                             stroke  \n",
       "\n",
       "[32888 rows x 3 columns]"
      ]
     },
     "execution_count": 48,
     "metadata": {},
     "output_type": "execute_result"
    }
   ],
   "source": [
    "name_df"
   ]
  },
  {
   "cell_type": "code",
   "execution_count": 42,
   "metadata": {},
   "outputs": [
    {
     "data": {
      "text/plain": [
       "50"
      ]
     },
     "execution_count": 42,
     "metadata": {},
     "output_type": "execute_result"
    }
   ],
   "source": [
    "len(cont_list)"
   ]
  },
  {
   "cell_type": "code",
   "execution_count": 34,
   "metadata": {},
   "outputs": [],
   "source": [
    "def clean_score(list_score, thresh) -> list[float]:\n",
    "    list_score = [item.rstrip('.') if item.endswith('.') else item for item in list_score]\n",
    "    list_score = [item for item in list_score if item and item.strip()]\n",
    "    score_bin = [1 if float(item) > thresh else 0 for item in list_score]\n",
    "    return score_bin"
   ]
  },
  {
   "cell_type": "code",
   "execution_count": 35,
   "metadata": {},
   "outputs": [],
   "source": [
    "import numpy as np\n",
    "import matplotlib.pyplot as plt"
   ]
  },
  {
   "cell_type": "code",
   "execution_count": 44,
   "metadata": {},
   "outputs": [
    {
     "data": {
      "image/png": "[encoded data removed]",
      "text/plain": [
       "<Figure size 640x480 with 1 Axes>"
      ]
     },
     "metadata": {},
     "output_type": "display_data"
    }
   ],
   "source": [
    "thresh = 0.6\n",
    "# RESULT ON FB WITHOUT CONTEXT\n",
    "base_bin = clean_score(base_list, thresh)\n",
    "cont_bin = clean_score(cont_list, thresh)\n",
    "\n",
    "\n",
    "# Example binary lists with different sizes\n",
    "list1 = base_bin\n",
    "list2 = cont_bin\n",
    "\n",
    "# Calculate the proportion of 1s and 0s in each list\n",
    "prop_true_base = sum(base_bin) / len(base_bin)\n",
    "prop_false_base = 1 - prop_true_base\n",
    "prop_true_cont = sum(list2) / len(list2)\n",
    "prop_false_cont = 1 - prop_true_cont\n",
    "\n",
    "\n",
    "# Define the labels and proportions\n",
    "labels = [f'True (>{thresh})', f'False ({thresh}<)']\n",
    "prop_base = [prop_true_base, prop_false_base]\n",
    "prop_cont = [prop_true_cont, prop_false_cont]\n",
    "#prop_cont_simp = [prop_true_cont_simp, prop_false_cont_simp]\n",
    "\n",
    "\n",
    "# Define the positions of the bars\n",
    "x1 = np.arange(len(labels))  # Positions for list1\n",
    "x2 = x1 + len(labels)  # Positions for list2, with a gap\n",
    "x3 = x2 + len(labels)\n",
    "\n",
    "# Create the bar plot\n",
    "fig, ax = plt.subplots()\n",
    "bar1 = ax.bar(x1, prop_base, width=0.4, label='Without context', color='blue')\n",
    "bar2 = ax.bar(x2, prop_cont, width=0.4, label='With Context', color='orange')\n",
    "#bar3 = ax.bar(x3, prop_cont_simp, width=0.4, label='With triples cont.', color='red')\n",
    "\n",
    "# Add labels, title, and legend\n",
    "ax.set_xlabel(f'True if score > {thresh}, False if {thresh} < score ')\n",
    "ax.set_ylabel('Proportion')\n",
    "ax.set_title('Predicted true and false on codex')\n",
    "ax.set_xticks(np.concatenate([x1, x2]))\n",
    "ax.set_xticklabels(labels * 2)\n",
    "ax.legend()\n",
    "\n",
    "# Add values on top of the bars\n",
    "ax.bar_label(bar1, fmt='%.2f')\n",
    "ax.bar_label(bar2, fmt='%.2f')\n",
    "#ax.bar_label(bar3, fmt='%.2f')\n",
    "\n",
    "# Display the plot\n",
    "plt.show()"
   ]
  },
  {
   "cell_type": "code",
   "execution_count": 45,
   "metadata": {},
   "outputs": [
    {
     "data": {
      "image/png": "[encoded data removed]",
      "text/plain": [
       "<Figure size 640x480 with 1 Axes>"
      ]
     },
     "metadata": {},
     "output_type": "display_data"
    }
   ],
   "source": [
    "thresh = 0.6\n",
    "# RESULT ON FB WITHOUT CONTEXT\n",
    "base_bin = clean_score(base_cand_list, thresh)\n",
    "cont_bin = clean_score(cont_cand_list, thresh)\n",
    "\n",
    "\n",
    "# Example binary lists with different sizes\n",
    "list1 = base_bin\n",
    "list2 = cont_bin\n",
    "\n",
    "# Calculate the proportion of 1s and 0s in each list\n",
    "prop_true_base = sum(base_bin) / len(base_bin)\n",
    "prop_false_base = 1 - prop_true_base\n",
    "prop_true_cont = sum(list2) / len(list2)\n",
    "prop_false_cont = 1 - prop_true_cont\n",
    "\n",
    "\n",
    "# Define the labels and proportions\n",
    "labels = [f'True (>{thresh})', f'False ({thresh}<)']\n",
    "prop_base = [prop_true_base, prop_false_base]\n",
    "prop_cont = [prop_true_cont, prop_false_cont]\n",
    "#prop_cont_simp = [prop_true_cont_simp, prop_false_cont_simp]\n",
    "\n",
    "\n",
    "# Define the positions of the bars\n",
    "x1 = np.arange(len(labels))  # Positions for list1\n",
    "x2 = x1 + len(labels)  # Positions for list2, with a gap\n",
    "x3 = x2 + len(labels)\n",
    "\n",
    "# Create the bar plot\n",
    "fig, ax = plt.subplots()\n",
    "bar1 = ax.bar(x1, prop_base, width=0.4, label='Without context', color='blue')\n",
    "bar2 = ax.bar(x2, prop_cont, width=0.4, label='With Context', color='orange')\n",
    "#bar3 = ax.bar(x3, prop_cont_simp, width=0.4, label='With triples cont.', color='red')\n",
    "\n",
    "# Add labels, title, and legend\n",
    "ax.set_xlabel(f'True if score > {thresh}, False if {thresh} < score ')\n",
    "ax.set_ylabel('Proportion')\n",
    "ax.set_title('Predicted true and false on codex candidates')\n",
    "ax.set_xticks(np.concatenate([x1, x2]))\n",
    "ax.set_xticklabels(labels * 2)\n",
    "ax.legend()\n",
    "\n",
    "# Add values on top of the bars\n",
    "ax.bar_label(bar1, fmt='%.2f')\n",
    "ax.bar_label(bar2, fmt='%.2f')\n",
    "#ax.bar_label(bar3, fmt='%.2f')\n",
    "\n",
    "# Display the plot\n",
    "plt.show()"
   ]
  }
 ],
 "metadata": {
  "kernelspec": {
   "display_name": "kg-emb",
   "language": "python",
   "name": "python3"
  },
  "language_info": {
   "codemirror_mode": {
    "name": "ipython",
    "version": 3
   },
   "file_extension": ".py",
   "mimetype": "text/x-python",
   "name": "python",
   "nbconvert_exporter": "python",
   "pygments_lexer": "ipython3",
   "version": "3.12.1"
  }
 },
 "nbformat": 4,
 "nbformat_minor": 2
}
